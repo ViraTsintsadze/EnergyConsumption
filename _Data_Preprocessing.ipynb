{
 "cells": [
  {
   "cell_type": "markdown",
   "metadata": {},
   "source": [
    "Energy consumption for housholds. Data is published on EIA website, reflects Energy Consumption Data from National survey.\n",
    "\n",
    "\n",
    "Original data in given in **recs2015_public_v4.csv**, each column is a SAS variable for houshold parameters, consumption etc.\n",
    "Each row is a sample of houshold with given parameters. **NWEIGHT** column - amount of households this sample represents.\n",
    "There is also **codebook_publicv4.CSV** file with descriptions of SAS vareables\n",
    "\n",
    "See more here:\n",
    "https://www.eia.gov/consumption/residential/reports.php\n",
    "\n",
    "<table>\n",
    "    <tr>\n",
    "        <th>\n",
    "            <img src=\"Pics_for_notebook/Codebook_view.jpg\">\n",
    "        </th>\n",
    "        <th>\n",
    "            <img src=\"Pics_for_notebook/recs_view.jpg\">\n",
    "        </th>\n",
    "    </tr>\n",
    "</table>\n"
   ]
  },
  {
   "cell_type": "code",
   "execution_count": 1,
   "metadata": {},
   "outputs": [],
   "source": [
    "import numpy as np\n",
    "import os\n",
    "import pandas as pd\n",
    "import pickle"
   ]
  },
  {
   "cell_type": "code",
   "execution_count": 2,
   "metadata": {},
   "outputs": [],
   "source": [
    "#getting data\n",
    "path = os.getcwd()\n",
    "pdData = pd.read_csv(os.path.join(path,'recs2015_public_v4.csv'), delimiter=',')\n",
    "pdData = pdData.dropna().reset_index()\n",
    "m_s, n_s = pdData.shape # m_s - number of samples, n_s - number of parameters+levels for each sample"
   ]
  },
  {
   "cell_type": "markdown",
   "metadata": {},
   "source": [
    "I devided **codebook** on two separate codebooks: for **Features** - parameters of household and **Labels** - what we may want to predict\n",
    "Constants and Z columns (impured/not imputed, see https://www.eia.gov/consumption/residential/reports.php) were cleaned from codebooks. Thus, **codebook_edited_shortened.xlsx** - codebooks with parameters of household used for models and **codebook_for_Labels_all.xlsx** - codebooks with Labels\n",
    "Cath# column is a technical column used for GUI and corresponding to the Tab number\n",
    "<table>\n",
    "    <tr>\n",
    "        <th>\n",
    "            <img src=\"Pics_for_notebook/New_Codebook_view.jpg\">\n",
    "        </th>\n",
    "        <th>\n",
    "            <img src=\"Pics_for_notebook/New_Lab_Codebook_view.jpg\">\n",
    "        </th>\n",
    "    </tr>\n",
    "</table>"
   ]
  },
  {
   "cell_type": "code",
   "execution_count": 3,
   "metadata": {},
   "outputs": [],
   "source": [
    "#Making Labels_list and Y\n",
    "pdCdbkLabels = pd.read_excel(os.path.join(path,'codebook_for_Labels_all.xlsx'), delimiter=',', header=0)\n",
    "Labels_list = pdCdbkLabels['SAS Variable Name'].to_list() \n",
    "Y = pdData[Labels_list].copy()"
   ]
  },
  {
   "cell_type": "code",
   "execution_count": 4,
   "metadata": {},
   "outputs": [],
   "source": [
    "#Making SAS_var_list\n",
    "pdCodebook = pd.read_excel(os.path.join(path,'codebook_edited_shortened.xlsx'), delimiter=',', header=0)\n",
    "SAS_var_list = pdCodebook['SAS Variable Name'].to_list()"
   ]
  },
  {
   "cell_type": "markdown",
   "metadata": {},
   "source": [
    "Most of the columns are integers (Type: Numeric in codebook), but some are coded with letters (Type: Character in codebook). To use the data for ML, we need them all uniform - integer. The function **code** codes character cells to integer."
   ]
  },
  {
   "cell_type": "code",
   "execution_count": 5,
   "metadata": {},
   "outputs": [],
   "source": [
    "def code(key):\n",
    "    Char_data_dict = {\n",
    "        'METRO':0,\n",
    "        'MICRO':1,\n",
    "        'NONE':2,        \n",
    "        'U':0,\n",
    "        'C':2,\n",
    "        'R':3,     \n",
    "        '1A-2A':1,\n",
    "        '2B':2,\n",
    "        '3A':3,\n",
    "        '3B-4B':4,\n",
    "        '3C':5,\n",
    "        '4A':6,\n",
    "        '4C':7,\n",
    "        '5A':8,\n",
    "        '5B-5C':9,\n",
    "        '6A-6B':10,\n",
    "        '7A-7B-7AK-8AK':11,\n",
    "        'Cold/Very Cold': 1,\n",
    "        'Hot-Dry/Mixed-Dry':2,\n",
    "        'Hot-Humid':3,\n",
    "        'Mixed-Humid':4,\n",
    "        'Marine':5\n",
    "    }\n",
    "    try: ret=Char_data_dict[key] \n",
    "    except: ret=key #if it's already int in some reason\n",
    "    return ret\n"
   ]
  },
  {
   "cell_type": "code",
   "execution_count": 6,
   "metadata": {},
   "outputs": [],
   "source": [
    "# Code all charactel columns into integer \n",
    "Charact_list =pdCodebook.where(pdCodebook['Type']=='Character')['SAS Variable Name'].dropna().to_list()\n",
    "for col in Charact_list:\n",
    "    pdData[col] = pdData[col].apply(code)    "
   ]
  },
  {
   "cell_type": "code",
   "execution_count": 7,
   "metadata": {},
   "outputs": [],
   "source": [
    "#Making X, after everithng int\n",
    "X = pdData[SAS_var_list].copy()"
   ]
  },
  {
   "cell_type": "markdown",
   "metadata": {},
   "source": [
    "Original data is wrapped to \"samples\", representing households with similar parameters. NWEIGHT reflects how many of these housholds are wrapped to the sample.\n",
    "To use the data for model training and validation, we need \"unwrap\" it - simulate original dataset from survey. **X_extruded and Y_extruded - rows of data repeated ** NWEIGHT/min(NWEIGHT)** in numpy array. \n",
    "**pd_x and pd_y** - pandas dataframes of them"
   ]
  },
  {
   "cell_type": "code",
   "execution_count": 8,
   "metadata": {},
   "outputs": [],
   "source": [
    "#NWEIGHT\n",
    "NWEIGHT=pdData['NWEIGHT'].copy()\n",
    "NWEIGHT = NWEIGHT/np.min(NWEIGHT)\n",
    "NWEIGHT = NWEIGHT.apply(round) #how many times row should be repeated"
   ]
  },
  {
   "cell_type": "code",
   "execution_count": 9,
   "metadata": {},
   "outputs": [],
   "source": [
    "#This code takes a while to run, unwrapping data into simulated datasat with given  NWEIGHT repeats.\n",
    "m_s, n_s = X.shape\n",
    "X_extruded = np.empty([0, n_s])  #numpy array\n",
    "for s in range(m_s):\n",
    "    for r in range(NWEIGHT[s]):  #row by row\n",
    "        tmp = np.array(X.loc[s]).reshape(1,n_s)\n",
    "        X_extruded =np.vstack([X_extruded, tmp])\n",
    "pd_x  = pd.DataFrame(data = X_extruded,columns = X.columns.values)\n",
    "\n",
    "m_s, n_s_y = Y.shape\n",
    "Y_extruded = np.empty([0, n_s_y])  #numpy array\n",
    "for s in range(m_s):\n",
    "    for r in range(NWEIGHT[s]):  #row by row\n",
    "        tmp = np.array(Y.loc[s]).reshape(1,n_s_y)\n",
    "        Y_extruded = np.vstack([Y_extruded, tmp])\n",
    "pd_y  = pd.DataFrame(data = Y_extruded, columns = Y.columns.values)\n",
    "\n",
    "Data_to_pickle = {\n",
    "    'pd_x': pd_x, 'pd_y': pd_y, 'pdCodebook':pdCodebook\n",
    "}\n",
    "\n",
    "dbfile = open('pd_x_pd_y_pdCodebook', 'wb') \n",
    "pickle.dump(Data_to_pickle, dbfile)                      \n",
    "dbfile.close() "
   ]
  },
  {
   "cell_type": "code",
   "execution_count": 10,
   "metadata": {},
   "outputs": [],
   "source": [
    "#Saved_Features\n",
    "#Optional, needed just to play with GUI. \n",
    "#It saves 5 most common household samples into scv file compatible with GUI\n",
    "for indx in range(5):\n",
    "    SampleData = pd.DataFrame(X.loc[indx]).transpose()\n",
    "    SampleData.to_csv('SavedFeatures//' +str(indx)+'.csv', index=False)"
   ]
  },
  {
   "cell_type": "code",
   "execution_count": null,
   "metadata": {},
   "outputs": [],
   "source": []
  }
 ],
 "metadata": {
  "kernelspec": {
   "display_name": "Python 3",
   "language": "python",
   "name": "python3"
  },
  "language_info": {
   "codemirror_mode": {
    "name": "ipython",
    "version": 3
   },
   "file_extension": ".py",
   "mimetype": "text/x-python",
   "name": "python",
   "nbconvert_exporter": "python",
   "pygments_lexer": "ipython3",
   "version": "3.7.4"
  }
 },
 "nbformat": 4,
 "nbformat_minor": 2
}
